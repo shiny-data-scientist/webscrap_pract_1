{
 "cells": [
  {
   "cell_type": "code",
   "execution_count": 201,
   "metadata": {},
   "outputs": [],
   "source": [
    "import requests\n",
    "import csv\n",
    "import json\n",
    "from pandas import json_normalize\n",
    "import pandas as pd"
   ]
  },
  {
   "cell_type": "code",
   "execution_count": 202,
   "metadata": {},
   "outputs": [],
   "source": [
    "# Se especifica el app_token, y se hacen búsquedas con año>2019 y mes >1 , para obtener los datos a partir de Febrero 2020m con limite 50000\n",
    "url=\"https://analisi.transparenciacatalunya.cat/resource/uy6k-2s8r.json?$$app_token=IyCoay6c4H4jrCgeqiLua4zgu&$where=any>2019 AND mes>1 &$limit=50000\"\n",
    "response = requests.get(url)\n",
    "\n",
    "# Si la respuesta es OK entonces cargamos los datos json\n",
    "if response.status_code == 200:\n",
    "    content = json.loads(response.content)\n",
    "\n",
    "# Se crea dataFrame vacio\n",
    "data = pd.DataFrame() \n",
    "\n",
    "# Se normaliza el json, y se pasa a dataframe\n",
    "for i in range(len(content)):\n",
    "    normalize = json_normalize(content[i])\n",
    "    data = data.append(normalize, ignore_index=True)\n",
    "\n",
    "# Se guardand los datos en formato csv\n",
    "data.to_csv('./data.csv')\n"
   ]
  }
 ],
 "metadata": {
  "kernelspec": {
   "display_name": "Python 3",
   "language": "python",
   "name": "python3"
  },
  "language_info": {
   "codemirror_mode": {
    "name": "ipython",
    "version": 3
   },
   "file_extension": ".py",
   "mimetype": "text/x-python",
   "name": "python",
   "nbconvert_exporter": "python",
   "pygments_lexer": "ipython3",
   "version": "3.7.6"
  }
 },
 "nbformat": 4,
 "nbformat_minor": 4
}
