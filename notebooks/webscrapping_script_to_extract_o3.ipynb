{
 "cells": [
  {
   "cell_type": "code",
   "execution_count": 20,
   "metadata": {},
   "outputs": [],
   "source": [
    "from selenium import webdriver\n",
    "from selenium.webdriver.common.action_chains import ActionChains\n",
    "import time\n",
    "from bs4 import BeautifulSoup\n",
    "driver = webdriver.Chrome()"
   ]
  },
  {
   "cell_type": "code",
   "execution_count": 21,
   "metadata": {},
   "outputs": [],
   "source": [
    "driver.get('https://aqicn.org/city/spain/catalunya/barcelona/')"
   ]
  },
  {
   "cell_type": "code",
   "execution_count": 22,
   "metadata": {},
   "outputs": [],
   "source": [
    "historic_data_block = driver.find_element_by_id(\n",
    "    'historic-aqidata-block'\n",
    ")\n",
    "actions = ActionChains(driver)\n",
    "actions.move_to_element(historic_data_block)\n",
    "actions.perform()\n",
    "time.sleep(10)"
   ]
  },
  {
   "cell_type": "code",
   "execution_count": 23,
   "metadata": {},
   "outputs": [],
   "source": [
    "# buscamos partícula o3 por el xpath\n",
    "o3 = driver.find_element_by_xpath('//*[@id=\"historic-aqidata-inner\"]/div[2]/div[2]/center/ul/li[2]')\n",
    "o3.click()"
   ]
  },
  {
   "cell_type": "code",
   "execution_count": 12,
   "metadata": {},
   "outputs": [],
   "source": [
    "historic_data = driver.find_element_by_class_name(\n",
    "    'historical-yearly-data'\n",
    ")\n",
    "table = driver.find_element_by_class_name('squares')"
   ]
  },
  {
   "cell_type": "code",
   "execution_count": 13,
   "metadata": {},
   "outputs": [],
   "source": [
    "soup = BeautifulSoup(driver.page_source)"
   ]
  },
  {
   "cell_type": "code",
   "execution_count": 14,
   "metadata": {},
   "outputs": [],
   "source": [
    "table_data = soup.find(\n",
    "    id='historic-aqidata-inner'\n",
    ").find('table').find('tbody')"
   ]
  },
  {
   "cell_type": "code",
   "execution_count": 15,
   "metadata": {},
   "outputs": [
    {
     "name": "stdout",
     "output_type": "stream",
     "text": [
      "2020\n",
      "Mar\n",
      "Feb\n",
      "Jan\n",
      "2019\n",
      "Dec\n",
      "Nov\n",
      "Oct\n",
      "Sep\n",
      "Aug\n",
      "Jul\n",
      "Jun\n",
      "May\n"
     ]
    }
   ],
   "source": [
    "from datetime import datetime\n",
    "data = []\n",
    "for row in table_data.find_all('tr'):\n",
    "    # cuando el dato está lleno tiene table-row\n",
    "    # el year-divider es para el relleno de la tabla\n",
    "    if row.get('class') == ['year-divider']:\n",
    "        year = row.text\n",
    "        print(year)\n",
    "    if row['style'] == 'display: table-row;' and row.get(\n",
    "        'class') != ['year-divider']:\n",
    "        month = None\n",
    "        for td in row.find_all('td'):\n",
    "            if month is None:\n",
    "                month = row.td.text\n",
    "                print(month)\n",
    "            if td.get('class') == ['squares']:\n",
    "                # comenzamos con el día 1 cada mes\n",
    "                day = 1\n",
    "                for svg in td.find_all('svg'):\n",
    "                    for rect in svg.find_all('text'):\n",
    "                        timestamp = datetime.strptime(\n",
    "                            f'{day}-{month}-{year}',\n",
    "                            '%d-%b-%Y' \n",
    "                        )\n",
    "                        day += 1\n",
    "                        temp_data = {\n",
    "                            'timestamp': timestamp,\n",
    "                            'pm10': rect.text\n",
    "                        }\n",
    "                        data.append(temp_data)        "
   ]
  },
  {
   "cell_type": "code",
   "execution_count": 16,
   "metadata": {},
   "outputs": [
    {
     "data": {
      "text/html": [
       "<div>\n",
       "<style scoped>\n",
       "    .dataframe tbody tr th:only-of-type {\n",
       "        vertical-align: middle;\n",
       "    }\n",
       "\n",
       "    .dataframe tbody tr th {\n",
       "        vertical-align: top;\n",
       "    }\n",
       "\n",
       "    .dataframe thead th {\n",
       "        text-align: right;\n",
       "    }\n",
       "</style>\n",
       "<table border=\"1\" class=\"dataframe\">\n",
       "  <thead>\n",
       "    <tr style=\"text-align: right;\">\n",
       "      <th></th>\n",
       "      <th>timestamp</th>\n",
       "      <th>pm10</th>\n",
       "    </tr>\n",
       "  </thead>\n",
       "  <tbody>\n",
       "    <tr>\n",
       "      <th>0</th>\n",
       "      <td>2020-03-01</td>\n",
       "      <td>34</td>\n",
       "    </tr>\n",
       "    <tr>\n",
       "      <th>1</th>\n",
       "      <td>2020-03-02</td>\n",
       "      <td>35</td>\n",
       "    </tr>\n",
       "    <tr>\n",
       "      <th>2</th>\n",
       "      <td>2020-03-03</td>\n",
       "      <td>30</td>\n",
       "    </tr>\n",
       "    <tr>\n",
       "      <th>3</th>\n",
       "      <td>2020-03-04</td>\n",
       "      <td>31</td>\n",
       "    </tr>\n",
       "    <tr>\n",
       "      <th>4</th>\n",
       "      <td>2020-03-05</td>\n",
       "      <td>32</td>\n",
       "    </tr>\n",
       "  </tbody>\n",
       "</table>\n",
       "</div>"
      ],
      "text/plain": [
       "   timestamp pm10\n",
       "0 2020-03-01   34\n",
       "1 2020-03-02   35\n",
       "2 2020-03-03   30\n",
       "3 2020-03-04   31\n",
       "4 2020-03-05   32"
      ]
     },
     "execution_count": 16,
     "metadata": {},
     "output_type": "execute_result"
    }
   ],
   "source": [
    "import pandas as pd\n",
    "o3_df = pd.DataFrame(data)\n",
    "o3_df.head()"
   ]
  },
  {
   "cell_type": "code",
   "execution_count": 17,
   "metadata": {},
   "outputs": [],
   "source": [
    "# write the data in a csv file\n",
    "o3_df.to_csv('../data/o3.csv', index=False)"
   ]
  }
 ],
 "metadata": {
  "kernelspec": {
   "display_name": "Python 3",
   "language": "python",
   "name": "python3"
  },
  "language_info": {
   "codemirror_mode": {
    "name": "ipython",
    "version": 3
   },
   "file_extension": ".py",
   "mimetype": "text/x-python",
   "name": "python",
   "nbconvert_exporter": "python",
   "pygments_lexer": "ipython3",
   "version": "3.7.4"
  }
 },
 "nbformat": 4,
 "nbformat_minor": 4
}
