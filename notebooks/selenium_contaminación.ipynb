{
 "cells": [
  {
   "cell_type": "code",
   "execution_count": 65,
   "metadata": {},
   "outputs": [],
   "source": [
    "from selenium import webdriver\n",
    "import time\n",
    "\n",
    "# data to fill in \n",
    "name = ''\n",
    "email = ''\n",
    "organization = ''"
   ]
  },
  {
   "cell_type": "code",
   "execution_count": 57,
   "metadata": {},
   "outputs": [],
   "source": [
    "driver = webdriver.Chrome()"
   ]
  },
  {
   "cell_type": "code",
   "execution_count": 66,
   "metadata": {},
   "outputs": [],
   "source": [
    "driver.get('https://aqicn.org/data-platform/register/')"
   ]
  },
  {
   "cell_type": "code",
   "execution_count": 70,
   "metadata": {},
   "outputs": [],
   "source": [
    "select_city = driver.find_element_by_class_name(\n",
    "    'prompt'\n",
    ")\n",
    "select_city.send_keys(\"Madrid, Spain\")\n",
    "click_city = driver.find_element_by_class_name(\n",
    "    'title'\n",
    ")\n",
    "# time.sleep(10)\n",
    "click_city.click()\n",
    "# select_city.send_keys(\"Madrid, Spain\")\n",
    "# click_city = driver.find_element_by_class_name(\n",
    "#     'title'\n",
    "# )\n",
    "# click_city.click()"
   ]
  },
  {
   "cell_type": "code",
   "execution_count": 61,
   "metadata": {},
   "outputs": [],
   "source": [
    "download_csv_button = driver.find_element_by_class_name(\n",
    "    'ui.large.primary.button'\n",
    ")\n",
    "download_csv_button.click()"
   ]
  },
  {
   "cell_type": "code",
   "execution_count": 62,
   "metadata": {},
   "outputs": [],
   "source": [
    "# Fill form\n",
    "name = driver.find_element_by_name('name')\n",
    "name.send_keys(name)\n",
    "email = driver.find_element_by_name('email')\n",
    "email.send_keys(email)\n",
    "organization = driver.find_element_by_name('organization')\n",
    "organization.send_keys(organization)\n",
    "\n",
    "# agreement\n",
    "checkbox_agreement = driver.find_element_by_name('terms')\n",
    "checkbox_agreement.click()\n",
    "\n",
    "# click submit\n",
    "driver.find_element_by_class_name('ui.submit.button.primary').click()"
   ]
  }
 ],
 "metadata": {
  "kernelspec": {
   "display_name": "Python 3",
   "language": "python",
   "name": "python3"
  },
  "language_info": {
   "codemirror_mode": {
    "name": "ipython",
    "version": 3
   },
   "file_extension": ".py",
   "mimetype": "text/x-python",
   "name": "python",
   "nbconvert_exporter": "python",
   "pygments_lexer": "ipython3",
   "version": "3.7.4"
  }
 },
 "nbformat": 4,
 "nbformat_minor": 1
}
