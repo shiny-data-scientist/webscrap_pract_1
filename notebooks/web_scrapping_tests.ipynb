{
 "cells": [
  {
   "cell_type": "markdown",
   "metadata": {
    "collapsed": true
   },
   "source": [
    "# Analizando la página objetivo\n",
    "\n",
    "Este notebook tiene como objetivo analizar la página a la cual queremos hacer webscrapping:\n",
    "\n",
    "https://www.isciii.es/QueHacemos/Servicios/VigilanciaSaludPublicaRENAVE/EnfermedadesTransmisibles/Paginas/InformesCOVID-19.aspx\n",
    "\n",
    "Esta página contiene los datos actualizados por parte del gobierno de los casos de contagio por coronavirus. El obejtivo de este notebook es en primer lugar, realziar webscrapping para descargar los PDFs que redirige. Seguidamente, para recolectar los datos del pdf realizaremos pdf scraping. Todos los pasos se automatizan también en scripts en el proyecto."
   ]
  },
  {
   "cell_type": "code",
   "execution_count": 46,
   "metadata": {
    "pycharm": {
     "is_executing": false
    }
   },
   "outputs": [],
   "source": [
    "# libraries\n",
    "import requests\n",
    "import pandas as pd\n",
    "from bs4 import BeautifulSoup\n",
    "from bs4.element import Tag"
   ]
  },
  {
   "cell_type": "code",
   "execution_count": 47,
   "metadata": {
    "pycharm": {
     "is_executing": false
    }
   },
   "outputs": [
    {
     "name": "stdout",
     "text": [
      "Página descargada con éxito\n"
     ],
     "output_type": "stream"
    }
   ],
   "source": [
    "# Descargamos la página objetivo\n",
    "page = requests.get(\n",
    "    'https://www.isciii.es/QueHacemos/Servicios/VigilanciaSaludPublicaRENAVE/'\n",
    "    'EnfermedadesTransmisibles/Paginas/InformesCOVID-19.aspx'\n",
    ")\n",
    "if page.status_code == 200:\n",
    "    print('Página descargada con éxito')"
   ]
  },
  {
   "cell_type": "code",
   "execution_count": 48,
   "metadata": {
    "pycharm": {
     "is_executing": false
    }
   },
   "outputs": [],
   "source": [
    "# creamos la sopa a traves de la página\n",
    "soup = BeautifulSoup(page.content)"
   ]
  },
  {
   "cell_type": "markdown",
   "metadata": {},
   "source": [
    "Las páginas objetivo se encuentran dentro de un a href."
   ]
  },
  {
   "cell_type": "code",
   "execution_count": 49,
   "metadata": {
    "pycharm": {
     "is_executing": false
    }
   },
   "outputs": [],
   "source": [
    "# buscamos bajo el id donde están los links de interés\n",
    "id_links = soup.find(id='ctl00_PlaceHolderMain_ctl02__ControlWrapper_RichHtmlField')\n",
    "\n",
    "# para cada hijo buscamos a y guardamos su enlace\n",
    "links_pdfs = []\n",
    "for child in id_links.children:\n",
    "    a_tag = child.find('a')\n",
    "    if isinstance(a_tag, Tag):\n",
    "        # print(a_tag.get('href'))\n",
    "        links_pdfs.append(a_tag.get('href'))\n",
    "\n",
    "# generamos cada enlace\n",
    "baselink = 'https://www.isciii.es'\n",
    "for i in range(0, len(links_pdfs)):\n",
    "    links_pdfs[i] = baselink + links_pdfs[i]"
   ]
  },
  {
   "cell_type": "code",
   "execution_count": 50,
   "metadata": {
    "pycharm": {
     "is_executing": false
    }
   },
   "outputs": [],
   "source": [
    "# descargamos un pdf para probar que funciona\n"
   ]
  }
 ],
 "metadata": {
  "kernelspec": {
   "display_name": "Python 3",
   "language": "python",
   "name": "python3"
  },
  "language_info": {
   "codemirror_mode": {
    "name": "ipython",
    "version": 3
   },
   "file_extension": ".py",
   "mimetype": "text/x-python",
   "name": "python",
   "nbconvert_exporter": "python",
   "pygments_lexer": "ipython3",
   "version": "3.7.4"
  }
 },
 "nbformat": 4,
 "nbformat_minor": 1
}