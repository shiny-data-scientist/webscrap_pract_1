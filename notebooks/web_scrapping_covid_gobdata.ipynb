{
 "cells": [
  {
   "cell_type": "markdown",
   "metadata": {
    "collapsed": true
   },
   "source": [
    "# Analizando la página objetivo\n",
    "\n",
    "Este notebook tiene como objetivo analizar la página a la cual queremos hacer webscrapping:\n",
    "\n",
    "https://www.isciii.es/QueHacemos/Servicios/VigilanciaSaludPublicaRENAVE/EnfermedadesTransmisibles/Paginas/InformesCOVID-19.aspx\n",
    "\n",
    "Esta página contiene los datos actualizados por parte del gobierno de los casos de contagio por coronavirus. El obejtivo de este notebook es en primer lugar, realziar webscrapping para descargar los PDFs que redirige. Seguidamente, para recolectar los datos del pdf realizaremos pdf scraping. Todos los pasos se automatizan también en scripts en el proyecto."
   ]
  },
  {
   "cell_type": "code",
   "execution_count": 1,
   "metadata": {
    "pycharm": {
     "is_executing": false
    }
   },
   "outputs": [],
   "source": [
    "# libraries\n",
    "import requests\n",
    "import pandas as pd\n",
    "from bs4 import BeautifulSoup\n",
    "from bs4.element import Tag"
   ]
  },
  {
   "cell_type": "code",
   "execution_count": 2,
   "metadata": {
    "pycharm": {
     "is_executing": false
    }
   },
   "outputs": [
    {
     "name": "stdout",
     "text": [
      "Página descargada con éxito\n"
     ],
     "output_type": "stream"
    }
   ],
   "source": [
    "# Descargamos la página objetivo\n",
    "page = requests.get(\n",
    "    'https://www.isciii.es/QueHacemos/Servicios/VigilanciaSaludPublicaRENAVE/'\n",
    "    'EnfermedadesTransmisibles/Paginas/InformesCOVID-19.aspx'\n",
    ")\n",
    "if page.status_code == 200:\n",
    "    print('Página descargada con éxito')"
   ]
  },
  {
   "cell_type": "code",
   "execution_count": 3,
   "metadata": {
    "pycharm": {
     "is_executing": false
    }
   },
   "outputs": [],
   "source": [
    "# creamos la sopa a traves de la página\n",
    "soup = BeautifulSoup(page.content)"
   ]
  },
  {
   "cell_type": "markdown",
   "metadata": {},
   "source": [
    "Las páginas objetivo se encuentran dentro de un a href."
   ]
  },
  {
   "cell_type": "code",
   "execution_count": 4,
   "metadata": {
    "pycharm": {
     "is_executing": false
    }
   },
   "outputs": [],
   "source": [
    "# # buscamos bajo el id donde están los links de interés\n",
    "# id_links = soup.find(id='ctl00_PlaceHolderMain_ctl02__ControlWrapper_RichHtmlField')\n",
    "\n",
    "# # para cada hijo buscamos a y guardamos su enlace\n",
    "# links_pdfs = []\n",
    "# for child in id_links.children:\n",
    "#     a_tag = child.find('a')\n",
    "#     if isinstance(a_tag, Tag):\n",
    "#         links_pdfs.append(a_tag.get('href'))\n",
    "\n",
    "# print(links_pdfs[0])"
   ]
  },
  {
   "cell_type": "code",
   "execution_count": 5,
   "metadata": {
    "pycharm": {
     "is_executing": false
    }
   },
   "outputs": [
    {
     "name": "stdout",
     "text": [
      "{'info': '- Informe nº 21. Situación de COVID-19 en España a\\xa06 de abril de '\n         '2020',\n 'link': '/QueHacemos/Servicios/VigilanciaSaludPublicaRENAVE/EnfermedadesTransmisibles/Documents/INFORMES/Informes%20COVID-19/Informe%20nº%2021.%20Situación%20de%20COVID-19%20en%20España%20a%206%20de%20abril%20de%202020.pdf'}\n"
     ],
     "output_type": "stream"
    }
   ],
   "source": [
    "# buscamos bajo el id donde están los links de interés\n",
    "id_links = soup.find(id='ctl00_PlaceHolderMain_ctl02__ControlWrapper_RichHtmlField')\n",
    "\n",
    "# para cada hijo buscamos a y guardamos su enlace\n",
    "pdfs = []\n",
    "for child in id_links.children:\n",
    "    pdf = {}\n",
    "    a_tag = child.find('a')\n",
    "    if isinstance(a_tag, Tag):\n",
    "        pdf['link'] = a_tag.get('href')\n",
    "        pdf['info'] = a_tag.text\n",
    "        pdfs.append(pdf)\n",
    "\n",
    "from pprint import pprint\n",
    "pprint(pdfs[0])"
   ]
  },
  {
   "cell_type": "code",
   "execution_count": 6,
   "metadata": {
    "pycharm": {
     "is_executing": false
    }
   },
   "outputs": [
    {
     "name": "stdout",
     "text": [
      "{'info': '- Informe nº 21. Situación de COVID-19 en España a\\xa06 de abril de '\n         '2020',\n 'link': 'https://www.isciii.es/QueHacemos/Servicios/VigilanciaSaludPublicaRENAVE/EnfermedadesTransmisibles/Documents/INFORMES/Informes%20COVID-19/Informe%20nº%2021.%20Situación%20de%20COVID-19%20en%20España%20a%206%20de%20abril%20de%202020.pdf'}\n"
     ],
     "output_type": "stream"
    }
   ],
   "source": [
    "# generamos cada enlace\n",
    "baselink = 'https://www.isciii.es'\n",
    "for pdf in pdfs:\n",
    "    link = pdf['link']\n",
    "    pdf.update({'link': baselink + link})\n",
    "pprint(pdfs[0])"
   ]
  },
  {
   "cell_type": "code",
   "execution_count": 7,
   "metadata": {
    "pycharm": {
     "is_executing": false
    }
   },
   "outputs": [],
   "source": [
    "## generamos cada enlace\n",
    "#baselink = 'https://www.isciii.es'\n",
    "#for i in range(0, len(links_pdfs)):\n",
    "    #links_pdfs[i] = baselink + links_pdfs[i]\n",
    "#print(links_pdfs[0])"
   ]
  },
  {
   "cell_type": "code",
   "execution_count": 8,
   "metadata": {
    "pycharm": {
     "is_executing": false
    }
   },
   "outputs": [
    {
     "data": {
      "text/plain": "1490624"
     },
     "metadata": {},
     "output_type": "execute_result",
     "execution_count": 8
    }
   ],
   "source": [
    "name = pdfs[0]['info']\n",
    "url = pdfs[0]['link']\n",
    "file = requests.get(url, allow_redirects=True)\n",
    "open('../data/' + name + '.pdf', 'wb').write(file.content)"
   ]
  },
  {
   "cell_type": "markdown",
   "metadata": {},
   "source": [
    "Ahora que ya hemos descargado un pdf vamos a hacer pdf scrapping para extraer los datos."
   ]
  },
  {
   "cell_type": "code",
   "execution_count": 9,
   "metadata": {
    "pycharm": {
     "is_executing": false
    }
   },
   "outputs": [
    {
     "name": "stderr",
     "text": [
      "Error from tabula-java:\nError: could not open `D:\\Java JDK\\lib\\amd64\\jvm.cfg'\r\n\n\n"
     ],
     "output_type": "stream"
    },
    {
     "traceback": [
      "\u001b[1;31m---------------------------------------------------------------------------\u001b[0m",
      "\u001b[1;31mCalledProcessError\u001b[0m                        Traceback (most recent call last)",
      "\u001b[1;32m<ipython-input-9-8a2e854851bf>\u001b[0m in \u001b[0;36m<module>\u001b[1;34m\u001b[0m\n\u001b[0;32m      1\u001b[0m \u001b[1;32mimport\u001b[0m \u001b[0mtabula\u001b[0m\u001b[1;33m\u001b[0m\u001b[1;33m\u001b[0m\u001b[0m\n\u001b[1;32m----> 2\u001b[1;33m \u001b[0mcontenido_pdf\u001b[0m \u001b[1;33m=\u001b[0m \u001b[0mtabula\u001b[0m\u001b[1;33m.\u001b[0m\u001b[0mread_pdf\u001b[0m\u001b[1;33m(\u001b[0m\u001b[1;34m'../data/'\u001b[0m \u001b[1;33m+\u001b[0m \u001b[0mname\u001b[0m \u001b[1;33m+\u001b[0m \u001b[1;34m'.pdf'\u001b[0m\u001b[1;33m,\u001b[0m \u001b[0mpages\u001b[0m\u001b[1;33m=\u001b[0m\u001b[1;34m'all'\u001b[0m\u001b[1;33m,\u001b[0m \u001b[0moutput_format\u001b[0m\u001b[1;33m=\u001b[0m\u001b[1;34m'json'\u001b[0m\u001b[1;33m)\u001b[0m\u001b[1;33m\u001b[0m\u001b[1;33m\u001b[0m\u001b[0m\n\u001b[0m\u001b[0;32m      3\u001b[0m \u001b[1;33m\u001b[0m\u001b[0m\n",
      "\u001b[1;32md:\\googledrive\\master's degree data science\\tipología y ciclo de vida de los datos\\práctica 1 - webscrapping\\webscrap_pract_1\\venv\\lib\\site-packages\\tabula\\io.py\u001b[0m in \u001b[0;36mread_pdf\u001b[1;34m(input_path, output_format, encoding, java_options, pandas_options, multiple_tables, user_agent, **kwargs)\u001b[0m\n\u001b[0;32m    320\u001b[0m \u001b[1;33m\u001b[0m\u001b[0m\n\u001b[0;32m    321\u001b[0m     \u001b[1;32mtry\u001b[0m\u001b[1;33m:\u001b[0m\u001b[1;33m\u001b[0m\u001b[1;33m\u001b[0m\u001b[0m\n\u001b[1;32m--> 322\u001b[1;33m         \u001b[0moutput\u001b[0m \u001b[1;33m=\u001b[0m \u001b[0m_run\u001b[0m\u001b[1;33m(\u001b[0m\u001b[0mjava_options\u001b[0m\u001b[1;33m,\u001b[0m \u001b[0mkwargs\u001b[0m\u001b[1;33m,\u001b[0m \u001b[0mpath\u001b[0m\u001b[1;33m,\u001b[0m \u001b[0mencoding\u001b[0m\u001b[1;33m)\u001b[0m\u001b[1;33m\u001b[0m\u001b[1;33m\u001b[0m\u001b[0m\n\u001b[0m\u001b[0;32m    323\u001b[0m     \u001b[1;32mfinally\u001b[0m\u001b[1;33m:\u001b[0m\u001b[1;33m\u001b[0m\u001b[1;33m\u001b[0m\u001b[0m\n\u001b[0;32m    324\u001b[0m         \u001b[1;32mif\u001b[0m \u001b[0mtemporary\u001b[0m\u001b[1;33m:\u001b[0m\u001b[1;33m\u001b[0m\u001b[1;33m\u001b[0m\u001b[0m\n",
      "\u001b[1;32md:\\googledrive\\master's degree data science\\tipología y ciclo de vida de los datos\\práctica 1 - webscrapping\\webscrap_pract_1\\venv\\lib\\site-packages\\tabula\\io.py\u001b[0m in \u001b[0;36m_run\u001b[1;34m(java_options, options, path, encoding)\u001b[0m\n\u001b[0;32m     83\u001b[0m             \u001b[0mstderr\u001b[0m\u001b[1;33m=\u001b[0m\u001b[0msubprocess\u001b[0m\u001b[1;33m.\u001b[0m\u001b[0mPIPE\u001b[0m\u001b[1;33m,\u001b[0m\u001b[1;33m\u001b[0m\u001b[1;33m\u001b[0m\u001b[0m\n\u001b[0;32m     84\u001b[0m             \u001b[0mstdin\u001b[0m\u001b[1;33m=\u001b[0m\u001b[0msubprocess\u001b[0m\u001b[1;33m.\u001b[0m\u001b[0mDEVNULL\u001b[0m\u001b[1;33m,\u001b[0m\u001b[1;33m\u001b[0m\u001b[1;33m\u001b[0m\u001b[0m\n\u001b[1;32m---> 85\u001b[1;33m             \u001b[0mcheck\u001b[0m\u001b[1;33m=\u001b[0m\u001b[1;32mTrue\u001b[0m\u001b[1;33m,\u001b[0m\u001b[1;33m\u001b[0m\u001b[1;33m\u001b[0m\u001b[0m\n\u001b[0m\u001b[0;32m     86\u001b[0m         )\n\u001b[0;32m     87\u001b[0m         \u001b[1;32mif\u001b[0m \u001b[0mresult\u001b[0m\u001b[1;33m.\u001b[0m\u001b[0mstderr\u001b[0m\u001b[1;33m:\u001b[0m\u001b[1;33m\u001b[0m\u001b[1;33m\u001b[0m\u001b[0m\n",
      "\u001b[1;32m~\\AppData\\Local\\Programs\\Python\\Python37-32\\lib\\subprocess.py\u001b[0m in \u001b[0;36mrun\u001b[1;34m(input, capture_output, timeout, check, *popenargs, **kwargs)\u001b[0m\n\u001b[0;32m    485\u001b[0m         \u001b[1;32mif\u001b[0m \u001b[0mcheck\u001b[0m \u001b[1;32mand\u001b[0m \u001b[0mretcode\u001b[0m\u001b[1;33m:\u001b[0m\u001b[1;33m\u001b[0m\u001b[1;33m\u001b[0m\u001b[0m\n\u001b[0;32m    486\u001b[0m             raise CalledProcessError(retcode, process.args,\n\u001b[1;32m--> 487\u001b[1;33m                                      output=stdout, stderr=stderr)\n\u001b[0m\u001b[0;32m    488\u001b[0m     \u001b[1;32mreturn\u001b[0m \u001b[0mCompletedProcess\u001b[0m\u001b[1;33m(\u001b[0m\u001b[0mprocess\u001b[0m\u001b[1;33m.\u001b[0m\u001b[0margs\u001b[0m\u001b[1;33m,\u001b[0m \u001b[0mretcode\u001b[0m\u001b[1;33m,\u001b[0m \u001b[0mstdout\u001b[0m\u001b[1;33m,\u001b[0m \u001b[0mstderr\u001b[0m\u001b[1;33m)\u001b[0m\u001b[1;33m\u001b[0m\u001b[1;33m\u001b[0m\u001b[0m\n\u001b[0;32m    489\u001b[0m \u001b[1;33m\u001b[0m\u001b[0m\n",
      "\u001b[1;31mCalledProcessError\u001b[0m: Command '['java', '-Dfile.encoding=UTF8', '-jar', \"d:\\\\googledrive\\\\master's degree data science\\\\tipología y ciclo de vida de los datos\\\\práctica 1 - webscrapping\\\\webscrap_pract_1\\\\venv\\\\lib\\\\site-packages\\\\tabula\\\\tabula-1.0.3-jar-with-dependencies.jar\", '--pages', 'all', '--guess', '--format', 'JSON', '../data/- Informe nº 21. Situación de COVID-19 en España a\\xa06 de abril de 2020.pdf']' returned non-zero exit status 1."
     ],
     "ename": "CalledProcessError",
     "evalue": "Command '['java', '-Dfile.encoding=UTF8', '-jar', \"d:\\\\googledrive\\\\master's degree data science\\\\tipología y ciclo de vida de los datos\\\\práctica 1 - webscrapping\\\\webscrap_pract_1\\\\venv\\\\lib\\\\site-packages\\\\tabula\\\\tabula-1.0.3-jar-with-dependencies.jar\", '--pages', 'all', '--guess', '--format', 'JSON', '../data/- Informe nº 21. Situación de COVID-19 en España a\\xa06 de abril de 2020.pdf']' returned non-zero exit status 1.",
     "output_type": "error"
    }
   ],
   "source": [
    "import tabula\n",
    "contenido_pdf = tabula.read_pdf('../data/' + name + '.pdf', pages='all', output_format='json')"
   ]
  },
  {
   "cell_type": "code",
   "execution_count": null,
   "metadata": {
    "pycharm": {
     "is_executing": false
    }
   },
   "outputs": [],
   "source": [
    "# let's look for the interesting table\n",
    "comunidades = [\n",
    "    'Andalucía',\n",
    "    'Aragón',\n",
    "    'Asturias',\n",
    "    'Baleares',\n",
    "    'Canarias',\n",
    "    'Cantabria',\n",
    "    'Castilla La Mancha',\n",
    "    'Castilla y León',\n",
    "    'Cataluña',\n",
    "    'Comunitat Valenciana',\n",
    "    'Extremadura',\n",
    "    'Galicia',\n",
    "    'Madrid',\n",
    "    'Murcia',\n",
    "    'Navarra',\n",
    "    'País Vasco',\n",
    "    'La Rioja',\n",
    "    'Ceuta',\n",
    "    'Melilla'\n",
    "]\n",
    "datos_interes = []\n",
    "for top_level_element in contenido_pdf:\n",
    "    for level_1_element in top_level_element['data']:\n",
    "        comunidad = {}\n",
    "        for i in range(0, len(level_1_element)):\n",
    "            if level_1_element[i]['text'] in comunidades:\n",
    "                comunidad['comunidad'] = level_1_element[i]['text']\n",
    "                comunidad['casos'] = level_1_element[i + 1]['text']\n",
    "                comunidad['casos_notificados'] = level_1_element[i + 2]['text']\n",
    "                datos_interes.append(comunidad)\n",
    "                \n",
    "datos_interes"
   ]
  },
  {
   "cell_type": "code",
   "execution_count": null,
   "metadata": {
    "pycharm": {
     "is_executing": false
    }
   },
   "outputs": [],
   "source": []
  }
 ],
 "metadata": {
  "kernelspec": {
   "display_name": "Python 3",
   "language": "python",
   "name": "python3"
  },
  "language_info": {
   "codemirror_mode": {
    "name": "ipython",
    "version": 3
   },
   "file_extension": ".py",
   "mimetype": "text/x-python",
   "name": "python",
   "nbconvert_exporter": "python",
   "pygments_lexer": "ipython3",
   "version": "3.7.4"
  }
 },
 "nbformat": 4,
 "nbformat_minor": 1
}