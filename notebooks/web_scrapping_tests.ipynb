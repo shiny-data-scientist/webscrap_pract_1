{
 "cells": [
  {
   "cell_type": "markdown",
   "metadata": {
    "collapsed": true
   },
   "source": [
    "# Analizando la página objetivo\n",
    "\n",
    "Este notebook tiene como objetivo analizar la página a la cual queremos hacer webscrapping:\n",
    "\n",
    "https://www.isciii.es/QueHacemos/Servicios/VigilanciaSaludPublicaRENAVE/EnfermedadesTransmisibles/Paginas/InformesCOVID-19.aspx\n",
    "\n",
    "Esta página contiene los datos actualizados por parte del gobierno de los casos de contagio por coronavirus. El obejtivo de este notebook es en primer lugar, realziar webscrapping para descargar los PDFs que redirige. Seguidamente, para recolectar los datos del pdf realizaremos pdf scraping. Todos los pasos se automatizan también en scripts en el proyecto."
   ]
  },
  {
   "cell_type": "code",
   "execution_count": 1,
   "metadata": {
    "pycharm": {
     "is_executing": false
    }
   },
   "outputs": [],
   "source": [
    "# libraries\n",
    "import requests\n",
    "import pandas as pd\n",
    "from bs4 import BeautifulSoup\n",
    "from bs4.element import Tag"
   ]
  },
  {
   "cell_type": "code",
   "execution_count": 2,
   "metadata": {
    "pycharm": {
     "is_executing": false
    }
   },
   "outputs": [
    {
     "name": "stdout",
     "output_type": "stream",
     "text": [
      "Página descargada con éxito\n"
     ]
    }
   ],
   "source": [
    "# Descargamos la página objetivo\n",
    "page = requests.get(\n",
    "    'https://www.isciii.es/QueHacemos/Servicios/VigilanciaSaludPublicaRENAVE/'\n",
    "    'EnfermedadesTransmisibles/Paginas/InformesCOVID-19.aspx'\n",
    ")\n",
    "if page.status_code == 200:\n",
    "    print('Página descargada con éxito')"
   ]
  },
  {
   "cell_type": "code",
   "execution_count": 3,
   "metadata": {
    "pycharm": {
     "is_executing": false
    }
   },
   "outputs": [],
   "source": [
    "# creamos la sopa a traves de la página\n",
    "soup = BeautifulSoup(page.content)"
   ]
  },
  {
   "cell_type": "markdown",
   "metadata": {},
   "source": [
    "Las páginas objetivo se encuentran dentro de un a href."
   ]
  },
  {
   "cell_type": "code",
   "execution_count": 4,
   "metadata": {
    "pycharm": {
     "is_executing": false
    }
   },
   "outputs": [],
   "source": [
    "# # buscamos bajo el id donde están los links de interés\n",
    "# id_links = soup.find(id='ctl00_PlaceHolderMain_ctl02__ControlWrapper_RichHtmlField')\n",
    "\n",
    "# # para cada hijo buscamos a y guardamos su enlace\n",
    "# links_pdfs = []\n",
    "# for child in id_links.children:\n",
    "#     a_tag = child.find('a')\n",
    "#     if isinstance(a_tag, Tag):\n",
    "#         links_pdfs.append(a_tag.get('href'))\n",
    "\n",
    "# print(links_pdfs[0])"
   ]
  },
  {
   "cell_type": "code",
   "execution_count": 5,
   "metadata": {},
   "outputs": [
    {
     "name": "stdout",
     "output_type": "stream",
     "text": [
      "{'info': 'Informe nº\\xa017. Situación de COVID-19 en España a 27 de marzo de '\n",
      "         '2020',\n",
      " 'link': '/QueHacemos/Servicios/VigilanciaSaludPublicaRENAVE/EnfermedadesTransmisibles/Documents/INFORMES/Informes%20COVID-19/Informe%20nº%2017.%20Situación%20de%20COVID-19%20en%20España%20a%2027%20marzo%20de%202020.pdf'}\n"
     ]
    }
   ],
   "source": [
    "# buscamos bajo el id donde están los links de interés\n",
    "id_links = soup.find(id='ctl00_PlaceHolderMain_ctl02__ControlWrapper_RichHtmlField')\n",
    "\n",
    "# para cada hijo buscamos a y guardamos su enlace\n",
    "pdfs = []\n",
    "for child in id_links.children:\n",
    "    pdf = {}\n",
    "    a_tag = child.find('a')\n",
    "    if isinstance(a_tag, Tag):\n",
    "        pdf['link'] = a_tag.get('href')\n",
    "        pdf['info'] = a_tag.text\n",
    "        pdfs.append(pdf)\n",
    "\n",
    "from pprint import pprint\n",
    "pprint(pdfs[0])"
   ]
  },
  {
   "cell_type": "code",
   "execution_count": 6,
   "metadata": {},
   "outputs": [
    {
     "name": "stdout",
     "output_type": "stream",
     "text": [
      "{'info': 'Informe nº\\xa017. Situación de COVID-19 en España a 27 de marzo de '\n",
      "         '2020',\n",
      " 'link': 'https://www.isciii.es/QueHacemos/Servicios/VigilanciaSaludPublicaRENAVE/EnfermedadesTransmisibles/Documents/INFORMES/Informes%20COVID-19/Informe%20nº%2017.%20Situación%20de%20COVID-19%20en%20España%20a%2027%20marzo%20de%202020.pdf'}\n"
     ]
    }
   ],
   "source": [
    "# generamos cada enlace\n",
    "baselink = 'https://www.isciii.es'\n",
    "for pdf in pdfs:\n",
    "    link = pdf['link']\n",
    "    pdf.update({'link': baselink + link})\n",
    "pprint(pdfs[0])"
   ]
  },
  {
   "cell_type": "code",
   "execution_count": 7,
   "metadata": {},
   "outputs": [],
   "source": [
    "## generamos cada enlace\n",
    "#baselink = 'https://www.isciii.es'\n",
    "#for i in range(0, len(links_pdfs)):\n",
    "    #links_pdfs[i] = baselink + links_pdfs[i]\n",
    "#print(links_pdfs[0])"
   ]
  },
  {
   "cell_type": "code",
   "execution_count": 13,
   "metadata": {},
   "outputs": [
    {
     "ename": "PermissionError",
     "evalue": "[Errno 13] Permission denied: '../data/hello.pdf'",
     "output_type": "error",
     "traceback": [
      "\u001b[1;31m---------------------------------------------------------------------------\u001b[0m",
      "\u001b[1;31mPermissionError\u001b[0m                           Traceback (most recent call last)",
      "\u001b[1;32m<ipython-input-13-b1a934f2302d>\u001b[0m in \u001b[0;36m<module>\u001b[1;34m\u001b[0m\n\u001b[0;32m      2\u001b[0m \u001b[0murl\u001b[0m \u001b[1;33m=\u001b[0m \u001b[0mpdfs\u001b[0m\u001b[1;33m[\u001b[0m\u001b[1;36m0\u001b[0m\u001b[1;33m]\u001b[0m\u001b[1;33m[\u001b[0m\u001b[1;34m'link'\u001b[0m\u001b[1;33m]\u001b[0m\u001b[1;33m\u001b[0m\u001b[1;33m\u001b[0m\u001b[0m\n\u001b[0;32m      3\u001b[0m \u001b[0mfile\u001b[0m \u001b[1;33m=\u001b[0m \u001b[0mrequests\u001b[0m\u001b[1;33m.\u001b[0m\u001b[0mget\u001b[0m\u001b[1;33m(\u001b[0m\u001b[0murl\u001b[0m\u001b[1;33m,\u001b[0m \u001b[0mallow_redirects\u001b[0m\u001b[1;33m=\u001b[0m\u001b[1;32mTrue\u001b[0m\u001b[1;33m)\u001b[0m\u001b[1;33m\u001b[0m\u001b[1;33m\u001b[0m\u001b[0m\n\u001b[1;32m----> 4\u001b[1;33m \u001b[0mopen\u001b[0m\u001b[1;33m(\u001b[0m\u001b[1;34m'../data/hello.pdf'\u001b[0m\u001b[1;33m,\u001b[0m \u001b[1;34m'wb'\u001b[0m\u001b[1;33m)\u001b[0m\u001b[1;33m.\u001b[0m\u001b[0mwrite\u001b[0m\u001b[1;33m(\u001b[0m\u001b[0mfile\u001b[0m\u001b[1;33m.\u001b[0m\u001b[0mcontent\u001b[0m\u001b[1;33m)\u001b[0m\u001b[1;33m\u001b[0m\u001b[1;33m\u001b[0m\u001b[0m\n\u001b[0m",
      "\u001b[1;31mPermissionError\u001b[0m: [Errno 13] Permission denied: '../data/hello.pdf'"
     ]
    }
   ],
   "source": [
    "import requests\n",
    "url = pdfs[0]['link']\n",
    "file = requests.get(url, allow_redirects=True)\n",
    "open('../data/' + , 'wb').write(file.content)"
   ]
  }
 ],
 "metadata": {
  "kernelspec": {
   "display_name": "Python 3",
   "language": "python",
   "name": "python3"
  },
  "language_info": {
   "codemirror_mode": {
    "name": "ipython",
    "version": 3
   },
   "file_extension": ".py",
   "mimetype": "text/x-python",
   "name": "python",
   "nbconvert_exporter": "python",
   "pygments_lexer": "ipython3",
   "version": "3.7.4"
  }
 },
 "nbformat": 4,
 "nbformat_minor": 1
}
