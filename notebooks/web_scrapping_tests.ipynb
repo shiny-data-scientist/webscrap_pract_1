{
 "cells": [
  {
   "cell_type": "markdown",
   "metadata": {
    "collapsed": true
   },
   "source": [
    "# Analizando la página objetivo\n",
    "\n",
    "Este notebook tiene como objetivo analizar la página a la cual queremos hacer webscrapping:\n",
    "\n",
    "https://www.isciii.es/QueHacemos/Servicios/VigilanciaSaludPublicaRENAVE/EnfermedadesTransmisibles/Paginas/InformesCOVID-19.aspx\n",
    "\n",
    "Esta página contiene los datos actualizados por parte del gobierno de los casos de contagio por coronavirus. El obejtivo de este notebook es en primer lugar, realziar webscrapping para descargar los PDFs que redirige. Seguidamente, para recolectar los datos del pdf realizaremos pdf scraping. Todos los pasos se automatizan también en scripts en el proyecto."
   ]
  },
  {
   "cell_type": "code",
   "execution_count": 1,
   "metadata": {
    "pycharm": {
     "is_executing": false
    }
   },
   "outputs": [],
   "source": [
    "# libraries\n",
    "import requests\n",
    "import pandas as pd\n",
    "from bs4 import BeautifulSoup\n",
    "from bs4.element import Tag"
   ]
  },
  {
   "cell_type": "code",
   "execution_count": 2,
   "metadata": {
    "pycharm": {
     "is_executing": false
    }
   },
   "outputs": [
    {
     "name": "stdout",
     "output_type": "stream",
     "text": [
      "Página descargada con éxito\n"
     ]
    }
   ],
   "source": [
    "# Descargamos la página objetivo\n",
    "page = requests.get(\n",
    "    'https://www.isciii.es/QueHacemos/Servicios/VigilanciaSaludPublicaRENAVE/'\n",
    "    'EnfermedadesTransmisibles/Paginas/InformesCOVID-19.aspx'\n",
    ")\n",
    "if page.status_code == 200:\n",
    "    print('Página descargada con éxito')"
   ]
  },
  {
   "cell_type": "code",
   "execution_count": 3,
   "metadata": {
    "pycharm": {
     "is_executing": false
    }
   },
   "outputs": [],
   "source": [
    "# creamos la sopa a traves de la página\n",
    "soup = BeautifulSoup(page.content)"
   ]
  },
  {
   "cell_type": "markdown",
   "metadata": {},
   "source": [
    "Las páginas objetivo se encuentran dentro de un a href."
   ]
  },
  {
   "cell_type": "code",
   "execution_count": 4,
   "metadata": {
    "pycharm": {
     "is_executing": false
    }
   },
   "outputs": [],
   "source": [
    "# # buscamos bajo el id donde están los links de interés\n",
    "# id_links = soup.find(id='ctl00_PlaceHolderMain_ctl02__ControlWrapper_RichHtmlField')\n",
    "\n",
    "# # para cada hijo buscamos a y guardamos su enlace\n",
    "# links_pdfs = []\n",
    "# for child in id_links.children:\n",
    "#     a_tag = child.find('a')\n",
    "#     if isinstance(a_tag, Tag):\n",
    "#         links_pdfs.append(a_tag.get('href'))\n",
    "\n",
    "# print(links_pdfs[0])"
   ]
  },
  {
   "cell_type": "code",
   "execution_count": 5,
   "metadata": {},
   "outputs": [
    {
     "name": "stdout",
     "output_type": "stream",
     "text": [
      "{'info': 'Informe nº\\xa017. Situación de COVID-19 en España a 27 de marzo de '\n",
      "         '2020',\n",
      " 'link': '/QueHacemos/Servicios/VigilanciaSaludPublicaRENAVE/EnfermedadesTransmisibles/Documents/INFORMES/Informes%20COVID-19/Informe%20nº%2017.%20Situación%20de%20COVID-19%20en%20España%20a%2027%20marzo%20de%202020.pdf'}\n"
     ]
    }
   ],
   "source": [
    "# buscamos bajo el id donde están los links de interés\n",
    "id_links = soup.find(id='ctl00_PlaceHolderMain_ctl02__ControlWrapper_RichHtmlField')\n",
    "\n",
    "# para cada hijo buscamos a y guardamos su enlace\n",
    "pdfs = []\n",
    "for child in id_links.children:\n",
    "    pdf = {}\n",
    "    a_tag = child.find('a')\n",
    "    if isinstance(a_tag, Tag):\n",
    "        pdf['link'] = a_tag.get('href')\n",
    "        pdf['info'] = a_tag.text\n",
    "        pdfs.append(pdf)\n",
    "\n",
    "from pprint import pprint\n",
    "pprint(pdfs[0])"
   ]
  },
  {
   "cell_type": "code",
   "execution_count": 6,
   "metadata": {},
   "outputs": [
    {
     "name": "stdout",
     "output_type": "stream",
     "text": [
      "{'info': 'Informe nº\\xa017. Situación de COVID-19 en España a 27 de marzo de '\n",
      "         '2020',\n",
      " 'link': 'https://www.isciii.es/QueHacemos/Servicios/VigilanciaSaludPublicaRENAVE/EnfermedadesTransmisibles/Documents/INFORMES/Informes%20COVID-19/Informe%20nº%2017.%20Situación%20de%20COVID-19%20en%20España%20a%2027%20marzo%20de%202020.pdf'}\n"
     ]
    }
   ],
   "source": [
    "# generamos cada enlace\n",
    "baselink = 'https://www.isciii.es'\n",
    "for pdf in pdfs:\n",
    "    link = pdf['link']\n",
    "    pdf.update({'link': baselink + link})\n",
    "pprint(pdfs[0])"
   ]
  },
  {
   "cell_type": "code",
   "execution_count": 7,
   "metadata": {},
   "outputs": [],
   "source": [
    "## generamos cada enlace\n",
    "#baselink = 'https://www.isciii.es'\n",
    "#for i in range(0, len(links_pdfs)):\n",
    "    #links_pdfs[i] = baselink + links_pdfs[i]\n",
    "#print(links_pdfs[0])"
   ]
  },
  {
   "cell_type": "code",
   "execution_count": 8,
   "metadata": {},
   "outputs": [
    {
     "data": {
      "text/plain": [
       "1845825"
      ]
     },
     "execution_count": 8,
     "metadata": {},
     "output_type": "execute_result"
    }
   ],
   "source": [
    "import requests\n",
    "name = pdfs[0]['info']\n",
    "url = pdfs[0]['link']\n",
    "file = requests.get(url, allow_redirects=True)\n",
    "open('../data/' + name + '.pdf', 'wb').write(file.content)"
   ]
  },
  {
   "cell_type": "markdown",
   "metadata": {},
   "source": [
    "Ahora que ya hemos descargado un pdf vamos a hacer pdf scrapping para extraer los datos."
   ]
  },
  {
   "cell_type": "code",
   "execution_count": 9,
   "metadata": {},
   "outputs": [
    {
     "name": "stderr",
     "output_type": "stream",
     "text": [
      "Got stderr: mar. 28, 2020 12:09:33 P. M. org.apache.pdfbox.pdmodel.font.PDCIDFontType2 <init>\r\n",
      "INFORMACIÓN: OpenType Layout tables used in font ABCDEE+Calibri are not implemented in PDFBox and will be ignored\r\n",
      "mar. 28, 2020 12:09:33 P. M. org.apache.pdfbox.pdmodel.font.PDCIDFontType2 <init>\r\n",
      "INFORMACIÓN: OpenType Layout tables used in font ABCDEE+Calibri are not implemented in PDFBox and will be ignored\r\n",
      "mar. 28, 2020 12:09:33 P. M. org.apache.pdfbox.pdmodel.font.PDCIDFontType2 <init>\r\n",
      "INFORMACIÓN: OpenType Layout tables used in font ABCDEE+Calibri are not implemented in PDFBox and will be ignored\r\n",
      "mar. 28, 2020 12:09:34 P. M. org.apache.pdfbox.pdmodel.font.PDCIDFontType2 <init>\r\n",
      "INFORMACIÓN: OpenType Layout tables used in font ABCDEE+Calibri are not implemented in PDFBox and will be ignored\r\n",
      "mar. 28, 2020 12:09:34 P. M. org.apache.pdfbox.pdmodel.font.PDCIDFontType2 <init>\r\n",
      "INFORMACIÓN: OpenType Layout tables used in font ABCDEE+Calibri are not implemented in PDFBox and will be ignored\r\n",
      "mar. 28, 2020 12:09:34 P. M. org.apache.pdfbox.pdmodel.font.PDCIDFontType2 <init>\r\n",
      "INFORMACIÓN: OpenType Layout tables used in font ABCDEE+Calibri are not implemented in PDFBox and will be ignored\r\n",
      "mar. 28, 2020 12:09:34 P. M. org.apache.pdfbox.pdmodel.font.PDCIDFontType2 <init>\r\n",
      "INFORMACIÓN: OpenType Layout tables used in font ABCDEE+Calibri are not implemented in PDFBox and will be ignored\r\n",
      "mar. 28, 2020 12:09:34 P. M. org.apache.pdfbox.pdmodel.font.PDCIDFontType2 <init>\r\n",
      "INFORMACIÓN: OpenType Layout tables used in font ABCDEE+Calibri are not implemented in PDFBox and will be ignored\r\n",
      "mar. 28, 2020 12:09:34 P. M. org.apache.pdfbox.pdmodel.font.PDCIDFontType2 <init>\r\n",
      "INFORMACIÓN: OpenType Layout tables used in font ABCDEE+Calibri are not implemented in PDFBox and will be ignored\r\n",
      "mar. 28, 2020 12:09:36 P. M. org.apache.pdfbox.pdmodel.font.PDCIDFontType2 <init>\r\n",
      "INFORMACIÓN: OpenType Layout tables used in font ABCDEE+Calibri are not implemented in PDFBox and will be ignored\r\n",
      "mar. 28, 2020 12:09:36 P. M. org.apache.pdfbox.pdmodel.font.PDCIDFontType2 <init>\r\n",
      "INFORMACIÓN: OpenType Layout tables used in font ABCDEE+Calibri are not implemented in PDFBox and will be ignored\r\n",
      "\n"
     ]
    }
   ],
   "source": [
    "import tabula\n",
    "contenido_pdf = tabula.read_pdf('../data/' + name + '.pdf', pages='all', output_format='json')"
   ]
  },
  {
   "cell_type": "code",
   "execution_count": 14,
   "metadata": {},
   "outputs": [
    {
     "data": {
      "text/plain": [
       "[{'comunidad': 'Andalucía', 'casos': '3793', 'casos_notificados': '3145'},\n",
       " {'comunidad': 'Aragón', 'casos': '1338', 'casos_notificados': '482'},\n",
       " {'comunidad': 'Asturias', 'casos': '900', 'casos_notificados': '841'},\n",
       " {'comunidad': 'Baleares', 'casos': '755', 'casos_notificados': '325'},\n",
       " {'comunidad': 'Canarias', 'casos': '878', 'casos_notificados': '278'},\n",
       " {'comunidad': 'Cantabria', 'casos': '810', 'casos_notificados': '737'},\n",
       " {'comunidad': 'Castilla La Mancha',\n",
       "  'casos': '3934',\n",
       "  'casos_notificados': '0'},\n",
       " {'comunidad': 'Castilla y León',\n",
       "  'casos': '4132',\n",
       "  'casos_notificados': '3266'},\n",
       " {'comunidad': 'Cataluña', 'casos': '12940', 'casos_notificados': '1928'},\n",
       " {'comunidad': 'Comunitat Valenciana',\n",
       "  'casos': '3532',\n",
       "  'casos_notificados': '2453'},\n",
       " {'comunidad': 'Extremadura', 'casos': '1231', 'casos_notificados': '1199'},\n",
       " {'comunidad': 'Galicia', 'casos': '2322', 'casos_notificados': '132'},\n",
       " {'comunidad': 'Madrid', 'casos': '19243', 'casos_notificados': '8926'},\n",
       " {'comunidad': 'Murcia', 'casos': '714', 'casos_notificados': '575'},\n",
       " {'comunidad': 'Navarra', 'casos': '1641', 'casos_notificados': '1058'},\n",
       " {'comunidad': 'País Vasco', 'casos': '4601', 'casos_notificados': '2203'},\n",
       " {'comunidad': 'La Rioja', 'casos': '1236', 'casos_notificados': '875'},\n",
       " {'comunidad': 'Ceuta', 'casos': '17', 'casos_notificados': '17'},\n",
       " {'comunidad': 'Melilla', 'casos': '42', 'casos_notificados': '28'}]"
      ]
     },
     "execution_count": 14,
     "metadata": {},
     "output_type": "execute_result"
    }
   ],
   "source": [
    "# let's look for the interesting table\n",
    "comunidades = [\n",
    "    'Andalucía',\n",
    "    'Aragón',\n",
    "    'Asturias',\n",
    "    'Baleares',\n",
    "    'Canarias',\n",
    "    'Cantabria',\n",
    "    'Castilla La Mancha',\n",
    "    'Castilla y León',\n",
    "    'Cataluña',\n",
    "    'Comunitat Valenciana',\n",
    "    'Extremadura',\n",
    "    'Galicia',\n",
    "    'Madrid',\n",
    "    'Murcia',\n",
    "    'Navarra',\n",
    "    'País Vasco',\n",
    "    'La Rioja',\n",
    "    'Ceuta',\n",
    "    'Melilla'\n",
    "]\n",
    "datos_interes = []\n",
    "for top_level_element in contenido_pdf:\n",
    "    for level_1_element in top_level_element['data']:\n",
    "        comunidad = {}\n",
    "        for i in range(0, len(level_1_element)):\n",
    "            if level_1_element[i]['text'] in comunidades:\n",
    "                comunidad['comunidad'] = level_1_element[i]['text']\n",
    "                comunidad['casos'] = level_1_element[i + 1]['text']\n",
    "                comunidad['casos_notificados'] = level_1_element[i + 2]['text']\n",
    "                datos_interes.append(comunidad)\n",
    "                \n",
    "datos_interes"
   ]
  },
  {
   "cell_type": "code",
   "execution_count": null,
   "metadata": {},
   "outputs": [],
   "source": []
  }
 ],
 "metadata": {
  "kernelspec": {
   "display_name": "Python 3",
   "language": "python",
   "name": "python3"
  },
  "language_info": {
   "codemirror_mode": {
    "name": "ipython",
    "version": 3
   },
   "file_extension": ".py",
   "mimetype": "text/x-python",
   "name": "python",
   "nbconvert_exporter": "python",
   "pygments_lexer": "ipython3",
   "version": "3.7.4"
  }
 },
 "nbformat": 4,
 "nbformat_minor": 1
}
